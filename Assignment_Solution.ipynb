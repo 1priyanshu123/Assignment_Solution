{
 "cells": [
  {
   "cell_type": "markdown",
   "id": "9852b552",
   "metadata": {},
   "source": [
    "# 1. What is the difference between Static and Dynamic variables in Python?"
   ]
  },
  {
   "cell_type": "markdown",
   "id": "3ae03572",
   "metadata": {},
   "source": [
    "Static variables have fixed memory locations, limited scope, and persistent values across function calls, while dynamic variables have runtime memory allocation, broader scope, and object-specific data.\n",
    "Example: \n",
    "class MyClass:\n",
    "    static_variable = 0  # Static variable\n",
    "\n",
    "    def __init__(self, value):\n",
    "        self.dynamic_variable = value  # Dynamic variable\n",
    "        MyClass.static_variable += 1   # Modify static variable to count instances\n",
    "\n",
    "# Create instances of MyClass\n",
    "obj1 = MyClass(5)\n",
    "obj2 = MyClass(10)\n",
    "\n",
    "print(f\"Static variable: {MyClass.static_variable}\")  # Output: 2 (number of instances created)\n",
    "print(f\"Dynamic variable of obj1: {obj1.dynamic_variable}\")  # Output: 5\n",
    "print(f\"Dynamic variable of obj2: {obj2.dynamic_variable}\")  # Output: 10\n"
   ]
  },
  {
   "cell_type": "markdown",
   "id": "126a2b48",
   "metadata": {},
   "source": [
    "# 2. Explain the purpose of \"pop\" ,\"popitem\",\"clear()\" in a dictionary with suitable examples. "
   ]
  },
  {
   "cell_type": "markdown",
   "id": "cdcfd94c",
   "metadata": {},
   "source": [
    "dictionaries are mutable collections that allow you to store and manipulate data using key-value pairs. The methods 'pop', \n",
    "'popitem' and 'clear' are used to remove items from dictionaries."
   ]
  },
  {
   "cell_type": "code",
   "execution_count": 1,
   "id": "60215cba",
   "metadata": {},
   "outputs": [
    {
     "name": "stdout",
     "output_type": "stream",
     "text": [
      "2\n",
      "{'a': 1, 'c': 3}\n",
      "Not Found\n"
     ]
    }
   ],
   "source": [
    "#The pop() method removes the item with the specified key from the dictionary and returns the value. \n",
    "#If the key is not found, it raises a KeyError unless a default value is provided.\n",
    "\n",
    "my_dict = {'a': 1, 'b': 2, 'c': 3}\n",
    "value = my_dict.pop('b')\n",
    "print(value)        # Output: 2\n",
    "print(my_dict)      # Output: {'a': 1, 'c': 3}\n",
    "\n",
    "# Using default value\n",
    "value = my_dict.pop('d', 'Not Found')\n",
    "print(value)        # Output: Not Found\n"
   ]
  },
  {
   "cell_type": "code",
   "execution_count": 2,
   "id": "c1c34099",
   "metadata": {},
   "outputs": [
    {
     "name": "stdout",
     "output_type": "stream",
     "text": [
      "('c', 3)\n",
      "{'a': 1, 'b': 2}\n"
     ]
    }
   ],
   "source": [
    "# The popitem() method removes and returns the last key-value pair from the dictionary as a tuple. \n",
    "# If the dictionary is empty, it raises a KeyError. It's useful for removing items in a last-in, first-out (LIFO) order.\n",
    "\n",
    "my_dict = {'a': 1, 'b': 2, 'c': 3}\n",
    "item = my_dict.popitem()\n",
    "print(item)         # Output: ('c', 3)\n",
    "print(my_dict)      # Output: {'a': 1, 'b': 2}"
   ]
  },
  {
   "cell_type": "code",
   "execution_count": 3,
   "id": "fd886b6c",
   "metadata": {},
   "outputs": [
    {
     "name": "stdout",
     "output_type": "stream",
     "text": [
      "{}\n"
     ]
    }
   ],
   "source": [
    "# The clear() method removes all items from the dictionary, leaving it empty.\n",
    "\n",
    "my_dict = {'a': 1, 'b': 2, 'c': 3}\n",
    "my_dict.clear()\n",
    "print(my_dict)      # Output: {}\n"
   ]
  },
  {
   "cell_type": "markdown",
   "id": "a97c371a",
   "metadata": {},
   "source": [
    "# 3. What do you mean by FrozenSet? Explain it with suitable examples."
   ]
  },
  {
   "cell_type": "markdown",
   "id": "d4fbbb06",
   "metadata": {},
   "source": [
    "A frozenset in Python is an immutable version of a set. Unlike regular sets, the contents of a frozenset cannot be changed\n",
    "after it is created, which means you cannot add or remove elements from it. This immutability makes frozenset hashable,\n",
    "allowing it to be used as a key in dictionaries or stored in other sets."
   ]
  },
  {
   "cell_type": "code",
   "execution_count": 4,
   "id": "21773b18",
   "metadata": {},
   "outputs": [
    {
     "name": "stdout",
     "output_type": "stream",
     "text": [
      "frozenset({1, 2, 3, 4, 5})\n",
      "frozenset({1, 2, 3, 4})\n"
     ]
    }
   ],
   "source": [
    "# Creating a frozenset from a list\n",
    "my_list = [1, 2, 3, 4, 5]\n",
    "fs = frozenset(my_list)\n",
    "print(fs)  # Output: frozenset({1, 2, 3, 4, 5})\n",
    "\n",
    "# Creating a frozenset from a set\n",
    "my_set = {1, 2, 3, 3, 4}\n",
    "fs = frozenset(my_set)\n",
    "print(fs)  # Output: frozenset({1, 2, 3, 4})"
   ]
  },
  {
   "cell_type": "markdown",
   "id": "0dab9201",
   "metadata": {},
   "source": [
    "# 4. Differentiate between mutable and immutable data types in python and give examples of mutable and immutable data types."
   ]
  },
  {
   "cell_type": "markdown",
   "id": "03ae7474",
   "metadata": {},
   "source": [
    "Mutable or immutable is the fancy word for explaining the property of data types of being able to get updated after being\n",
    "initialized. The basic explanation is thus: A mutable object is one whose internal state is changeable. On the contrary,\n",
    "once an immutable object in Python has been created, we cannot change it in any way.\n",
    "\n",
    "Anything is said to be mutable when anything can be modified or changed. The term \"mutable\" in Python refers to an object's\n",
    "capacity to modify its values. These are frequently the things that hold a data collection.\n",
    "\n",
    "Immutable refers to a state in which no change can occur over time. A Python object is referred to as immutable if we\n",
    "cannot change its value over time. The value of these Python objects is fixed once they are made.\n",
    "\n",
    "Python mutable data types:\n",
    "\n",
    "1. Lists\n",
    "2. Dictionaries\n",
    "3. Sets\n",
    "\n",
    "Python immutable data types:\n",
    "\n",
    "1. Numbers (Integer, Float, Complex, Decimal, Rational & Booleans)\n",
    "2. Tuples\n",
    "3. Strings\n"
   ]
  },
  {
   "cell_type": "code",
   "execution_count": 5,
   "id": "d4924534",
   "metadata": {},
   "outputs": [
    {
     "name": "stdout",
     "output_type": "stream",
     "text": [
      "[1, 2, 3, 4]\n"
     ]
    }
   ],
   "source": [
    "# Mutable Data Type List\n",
    "my_list = [1, 2, 3]\n",
    "my_list.append(4)      # Modifies the original list\n",
    "print(my_list)         # Output: [1, 2, 3, 4]"
   ]
  },
  {
   "cell_type": "code",
   "execution_count": 6,
   "id": "444692bc",
   "metadata": {},
   "outputs": [
    {
     "name": "stdout",
     "output_type": "stream",
     "text": [
      "(1, 2, 3)\n",
      "(1, 2, 3, 4)\n"
     ]
    }
   ],
   "source": [
    "# Immutable Data Type Tuple\n",
    "my_tuple = (1, 2, 3)\n",
    "new_tuple = my_tuple + (4,)\n",
    "print(my_tuple)        # Output: (1, 2, 3)\n",
    "print(new_tuple)       # Output: (1, 2, 3, 4)"
   ]
  },
  {
   "cell_type": "markdown",
   "id": "59927263",
   "metadata": {},
   "source": [
    "# 5. What is __init__ ? Explain with an example."
   ]
  },
  {
   "cell_type": "markdown",
   "id": "b03b2d76",
   "metadata": {},
   "source": [
    "__init__ is a special method known as the constructor. It is automatically called when a new instance of a class is\n",
    "created. The primary purpose of __init__ is to initialize the newly created object's attributes with initial values."
   ]
  },
  {
   "cell_type": "code",
   "execution_count": 8,
   "id": "76f46a45",
   "metadata": {},
   "outputs": [
    {
     "name": "stdout",
     "output_type": "stream",
     "text": [
      "Priyanshu\n",
      "22\n",
      "Name: Priyanshu, Age: 22\n"
     ]
    }
   ],
   "source": [
    "class Person:\n",
    "    def __init__(self, name, age):\n",
    "        self.name = name  # Initializing the name attribute\n",
    "        self.age = age    # Initializing the age attribute\n",
    "\n",
    "    def display_info(self):\n",
    "        print(f\"Name: {self.name}, Age: {self.age}\")\n",
    "\n",
    "# Creating an instance of Person\n",
    "person1 = Person(\"Priyanshu\", 22)\n",
    "\n",
    "# Accessing attributes\n",
    "print(person1.name)  # Output: Alice\n",
    "print(person1.age)   # Output: 30\n",
    "\n",
    "# Calling a method\n",
    "person1.display_info()  # Output: Name: Alice, Age: 30"
   ]
  },
  {
   "cell_type": "markdown",
   "id": "a6ef703f",
   "metadata": {},
   "source": [
    "# 6. What is docstring in python? Explain with an example."
   ]
  },
  {
   "cell_type": "markdown",
   "id": "a87a41c8",
   "metadata": {},
   "source": [
    "A docstring in Python is a special type of string that is used to document a module, class, method, or function. It\n",
    "provides a convenient way of associating documentation with Python code, making it easier to understand and maintain."
   ]
  },
  {
   "cell_type": "code",
   "execution_count": 9,
   "id": "ee51643f",
   "metadata": {},
   "outputs": [
    {
     "name": "stdout",
     "output_type": "stream",
     "text": [
      "\n",
      "    Add two numbers and return the result.\n",
      "\n",
      "    Parameters:\n",
      "    a (int, float): The first number.\n",
      "    b (int, float): The second number.\n",
      "\n",
      "    Returns:\n",
      "    int, float: The sum of the two numbers.\n",
      "    \n"
     ]
    }
   ],
   "source": [
    "def add(a, b):\n",
    "    \"\"\"\n",
    "    Add two numbers and return the result.\n",
    "\n",
    "    Parameters:\n",
    "    a (int, float): The first number.\n",
    "    b (int, float): The second number.\n",
    "\n",
    "    Returns:\n",
    "    int, float: The sum of the two numbers.\n",
    "    \"\"\"\n",
    "    return a + b\n",
    "\n",
    "# Accessing the docstring\n",
    "print(add.__doc__)\n"
   ]
  },
  {
   "cell_type": "markdown",
   "id": "9b86639d",
   "metadata": {},
   "source": [
    "# 7. What is unit test in Python?"
   ]
  },
  {
   "cell_type": "markdown",
   "id": "d60bf34a",
   "metadata": {},
   "source": [
    "Unit testing in Python involves testing individual units or components of a software application to ensure that each part\n",
    "functions correctly. The smallest testable part of an application, like a function, method, or class, is tested in\n",
    "isolation to verify its behavior.\n",
    "\n",
    "Key Characteristics of Unit Testing\n",
    "\n",
    "Isolation: Each unit test should test a single unit of code in isolation from other parts of the application.\n",
    "Repeatability: Unit tests should be repeatable and produce the same results every time they are run.\n",
    "Automation: Unit tests should be automated to allow for frequent execution without manual intervention."
   ]
  },
  {
   "cell_type": "markdown",
   "id": "8f03f729",
   "metadata": {},
   "source": [
    "# 8. What is Break, Continue and Pass in Python "
   ]
  },
  {
   "cell_type": "markdown",
   "id": "95a1bd1c",
   "metadata": {},
   "source": [
    "In Python, break, continue, and pass are control flow statements that are used to alter the execution flow of loops and\n",
    "other code structures."
   ]
  },
  {
   "cell_type": "code",
   "execution_count": 10,
   "id": "f337a8b7",
   "metadata": {},
   "outputs": [
    {
     "name": "stdout",
     "output_type": "stream",
     "text": [
      "0\n",
      "1\n",
      "2\n",
      "3\n",
      "4\n"
     ]
    }
   ],
   "source": [
    "#The break statement is used to exit a loop prematurely. When break is encountered inside a loop (for or while), \n",
    "#the loop is immediately terminated, and the control flow continues with the next statement after the loop.\n",
    "\n",
    "for num in range(10):\n",
    "    if num == 5:\n",
    "        break\n",
    "    print(num)"
   ]
  },
  {
   "cell_type": "code",
   "execution_count": 11,
   "id": "44d6c7a5",
   "metadata": {},
   "outputs": [
    {
     "name": "stdout",
     "output_type": "stream",
     "text": [
      "1\n",
      "3\n",
      "5\n",
      "7\n",
      "9\n"
     ]
    }
   ],
   "source": [
    "#The continue statement is used to skip the rest of the code inside a loop for the current iteration and move to the next \n",
    "#iteration of the loop. Unlike break, continue does not terminate the loop entirely; it just skips the current iteration.\n",
    "\n",
    "for num in range(10):\n",
    "    if num % 2 == 0:\n",
    "        continue\n",
    "    print(num)"
   ]
  },
  {
   "cell_type": "code",
   "execution_count": 12,
   "id": "caede778",
   "metadata": {},
   "outputs": [
    {
     "name": "stdout",
     "output_type": "stream",
     "text": [
      "1\n",
      "3\n",
      "5\n",
      "7\n",
      "9\n"
     ]
    }
   ],
   "source": [
    "#The pass statement is a null operation; it does nothing when executed. It is used as a placeholder in situations where a \n",
    "#statement is syntactically required but we do not want to write any code at that point.\n",
    "\n",
    "for num in range(10):\n",
    "    if num % 2 == 0:\n",
    "        pass  # Placeholder for future code\n",
    "    else:\n",
    "        print(num)"
   ]
  },
  {
   "cell_type": "markdown",
   "id": "de70fe20",
   "metadata": {},
   "source": [
    "# 9. What is the use of self in python? "
   ]
  },
  {
   "cell_type": "markdown",
   "id": "d6a443ae",
   "metadata": {},
   "source": [
    "self is a conventional name for the first parameter of instance methods in a class. It is used to refer to the instance of\n",
    "the class on which the method is being called. By using self, you can access and modify the attributes and methods of the\n",
    "class within its instance methods."
   ]
  },
  {
   "cell_type": "code",
   "execution_count": 15,
   "id": "7de8d83c",
   "metadata": {},
   "outputs": [
    {
     "name": "stdout",
     "output_type": "stream",
     "text": [
      "Name: Priyanshu, Age: 22\n"
     ]
    }
   ],
   "source": [
    "class Person:\n",
    "    def __init__(self, name, age):\n",
    "        self.name = name  # Assigning the instance's name attribute\n",
    "        self.age = age    # Assigning the instance's age attribute\n",
    "\n",
    "    def display_info(self):\n",
    "        print(f\"Name: {self.name}, Age: {self.age}\")\n",
    "\n",
    "# Creating an instance of the Person class\n",
    "person1 = Person(\"Priyanshu\", 22)\n",
    "\n",
    "# Calling the display_info method\n",
    "person1.display_info()  # Output: Name: Alice, Age: 30\n"
   ]
  },
  {
   "cell_type": "markdown",
   "id": "17e84afb",
   "metadata": {},
   "source": [
    "# 10. What are global, protected and private attributes in python?"
   ]
  },
  {
   "cell_type": "markdown",
   "id": "bed9b4c2",
   "metadata": {},
   "source": [
    "Attributes (or variables) of a class can be classified based on their visibility and accessibility: global, protected, and\n",
    "private. These classifications help in encapsulating the data and controlling access to it."
   ]
  },
  {
   "cell_type": "code",
   "execution_count": 16,
   "id": "c4af869f",
   "metadata": {},
   "outputs": [
    {
     "name": "stdout",
     "output_type": "stream",
     "text": [
      "I am a global variable\n",
      "I am a class attribute\n",
      "I am an instance attribute\n"
     ]
    }
   ],
   "source": [
    "#Global attributes are variables that are declared outside of any class or method and can be accessed from anywhere in \n",
    "#the code. In the context of a class, global attributes can also refer to class attributes, which are shared among all \n",
    "#instances of the class.\n",
    "\n",
    "# Global variable\n",
    "global_var = \"I am a global variable\"\n",
    "\n",
    "class MyClass:\n",
    "    # Class attribute (also considered global within the class context)\n",
    "    class_attr = \"I am a class attribute\"\n",
    "\n",
    "    def __init__(self, instance_attr):\n",
    "        # Instance attribute\n",
    "        self.instance_attr = instance_attr\n",
    "\n",
    "    def display_attributes(self):\n",
    "        print(global_var)         # Accessing global variable\n",
    "        print(MyClass.class_attr) # Accessing class attribute\n",
    "        print(self.instance_attr) # Accessing instance attribute\n",
    "\n",
    "obj = MyClass(\"I am an instance attribute\")\n",
    "obj.display_attributes()\n"
   ]
  },
  {
   "cell_type": "code",
   "execution_count": 17,
   "id": "bcaabb62",
   "metadata": {},
   "outputs": [
    {
     "name": "stdout",
     "output_type": "stream",
     "text": [
      "I am a protected attribute\n",
      "I am a protected attribute\n"
     ]
    }
   ],
   "source": [
    "#Protected attributes are intended to be accessed only within the class and its subclasses. They are indicated by a single \n",
    "#underscore prefix (_). This is just a convention and does not enforce strict access control but indicates that these \n",
    "#attributes are intended for internal use only.\n",
    "\n",
    "class BaseClass:\n",
    "    def __init__(self):\n",
    "        self._protected_attr = \"I am a protected attribute\"\n",
    "\n",
    "class DerivedClass(BaseClass):\n",
    "    def access_protected(self):\n",
    "        print(self._protected_attr)\n",
    "\n",
    "obj = DerivedClass()\n",
    "obj.access_protected()  \n",
    "print(obj._protected_attr)  \n"
   ]
  },
  {
   "cell_type": "code",
   "execution_count": 18,
   "id": "441ded71",
   "metadata": {},
   "outputs": [
    {
     "name": "stdout",
     "output_type": "stream",
     "text": [
      "I am a private attribute\n",
      "I am a private attribute\n"
     ]
    }
   ],
   "source": [
    "#Private attributes are intended to be accessed only within the class they are defined in. They are indicated by a double \n",
    "#underscore prefix (__). Python performs name mangling on these attributes, making it harder (but not impossible) to access \n",
    "#them from outside the class.\n",
    "\n",
    "class MyClass:\n",
    "    def __init__(self):\n",
    "        self.__private_attr = \"I am a private attribute\"\n",
    "\n",
    "    def get_private_attr(self):\n",
    "        return self.__private_attr\n",
    "\n",
    "obj = MyClass()\n",
    "print(obj.get_private_attr()) \n",
    "\n",
    "print(obj._MyClass__private_attr) \n"
   ]
  },
  {
   "cell_type": "markdown",
   "id": "34fbfc35",
   "metadata": {},
   "source": [
    "# 11. What are modules and packages in python?"
   ]
  },
  {
   "cell_type": "markdown",
   "id": "c5548469",
   "metadata": {},
   "source": [
    "A module is a single file (with a .py extension) that contains Python code. It can define functions, classes, and\n",
    "variables, and can also include runnable code. Modules help in organizing related code into a single file, which can then\n",
    "be imported and used in other Python programs.\n",
    "\n",
    "A package is a collection of modules organized in directories that include a special __init__.py file. The __init__.py file\n",
    "can be empty or can execute initialization code for the package. Packages allow for a hierarchical structuring of the\n",
    "module namespace using dot notation."
   ]
  },
  {
   "cell_type": "markdown",
   "id": "99a3c16e",
   "metadata": {},
   "source": [
    "# 12. What are List and Tuples? what is the key difference between the two?  "
   ]
  },
  {
   "cell_type": "code",
   "execution_count": 19,
   "id": "c097aab4",
   "metadata": {},
   "outputs": [
    {
     "name": "stdout",
     "output_type": "stream",
     "text": [
      "[1, 2, 3, 4, 5]\n",
      "[10, 2, 3, 4, 5]\n",
      "[1, 'hello', 3.4, True]\n",
      "[1, 'hello', 3.4, True, 6]\n",
      "[1, 3.4, True, 6]\n"
     ]
    }
   ],
   "source": [
    "#A list is a collection of items that are ordered and changeable. Lists allow duplicate elements. \n",
    "#They are defined using square brackets [].\n",
    "\n",
    "my_list = [1, 2, 3, 4, 5]\n",
    "print(my_list)  \n",
    "\n",
    "my_list[0] = 10\n",
    "print(my_list)  \n",
    "\n",
    "my_list = [1, \"hello\", 3.4, True]\n",
    "print(my_list) \n",
    "\n",
    "my_list.append(6)\n",
    "print(my_list)  \n",
    "\n",
    "my_list.remove(\"hello\")\n",
    "print(my_list)  "
   ]
  },
  {
   "cell_type": "code",
   "execution_count": 20,
   "id": "fca04052",
   "metadata": {},
   "outputs": [
    {
     "name": "stdout",
     "output_type": "stream",
     "text": [
      "(1, 2, 3, 4, 5)\n",
      "(1, 'hello', 3.4, True)\n",
      "hello\n"
     ]
    }
   ],
   "source": [
    "#A tuple is a collection of items that are ordered and immutable. Tuples allow duplicate elements. \n",
    "#They are defined using parentheses ().\n",
    "\n",
    "my_tuple = (1, 2, 3, 4, 5)\n",
    "print(my_tuple) \n",
    "\n",
    "my_tuple = (1, \"hello\", 3.4, True)\n",
    "print(my_tuple) \n",
    "\n",
    "print(my_tuple[1]) \n"
   ]
  },
  {
   "cell_type": "markdown",
   "id": "2b357ca4",
   "metadata": {},
   "source": [
    "Key Difference between list and tuple\n",
    "\n",
    "Lists: \n",
    "\n",
    "1. Mutable (can be changed after creation).\n",
    "2. Have a rich set of methods like append(), remove(), pop(), sort(), and others.\n",
    "3. Preferred when you need a collection of items that may change throughout the program.\n",
    "\n",
    "Tuples: \n",
    "\n",
    "1. Immutable (cannot be changed after creation).\n",
    "2. Have fewer methods. Common methods include count() and index().\n",
    "3. Preferred when you need a collection of items that should not change. They can be used as keys in dictionaries due to their immutability."
   ]
  },
  {
   "cell_type": "markdown",
   "id": "d0aa8e6f",
   "metadata": {},
   "source": [
    "# 13. What is an interpreted language and dynamically typed language? Write 5 diffrences between them?"
   ]
  },
  {
   "cell_type": "markdown",
   "id": "4d32dbac",
   "metadata": {},
   "source": [
    "Interpreted Language\n",
    "\n",
    "An interpreted language is a type of programming language in which most of its implementations execute instructions directly, without the need for prior compilation into machine-language instructions. In other words, code written in an interpreted language is executed line-by-line or statement-by-statement by an interpreter.\n",
    "\n",
    "Dynamically Typed Language\n",
    "\n",
    "A dynamically typed language is one in which the type of a variable is checked during runtime, not in advance. This means you do not need to declare the data type of a variable when you write the code; the interpreter assigns types automatically as the program runs.\n",
    "\n",
    "Interpreted Language:\n",
    "\n",
    "1. Executes code line-by-line with an interpreter.\n",
    "2. Type checking is not a primary concern of being interpreted; it focuses on execution.\n",
    "3. Generally, does not require a separate compilation step. The code is executed directly by an interpreter.\n",
    "4. Usually slower than compiled languages due to the overhead of interpreting each statement.\n",
    "5. Errors are typically detected at runtime when the interpreter encounters them.\n",
    "\n",
    "Dynamically Typed Language:\n",
    "\n",
    "1. Determines variable types at runtime.\n",
    "2. Type checking occurs at runtime, which allows variables to change types.\n",
    "3. Type checking happens at runtime, independent of whether the language is compiled or interpreted.\n",
    "4. Can be slower at runtime due to the need to check types dynamically.\n",
    "5. Type-related errors are detected at runtime, which can lead to runtime errors if types are not managed correctly."
   ]
  },
  {
   "cell_type": "markdown",
   "id": "2f973222",
   "metadata": {},
   "source": [
    "# 14. What are Dict and List Comprehensions?"
   ]
  },
  {
   "cell_type": "markdown",
   "id": "c0a88652",
   "metadata": {},
   "source": [
    "List comprehensions provide a concise way to create lists. They consist of brackets containing an expression followed by a for clause, and then zero or more for or if clauses. The result will be a new list resulting from evaluating the expression in the context of the for and if clauses that follow it."
   ]
  },
  {
   "cell_type": "code",
   "execution_count": 21,
   "id": "56fddfe8",
   "metadata": {},
   "outputs": [
    {
     "name": "stdout",
     "output_type": "stream",
     "text": [
      "[0, 1, 4, 9, 16, 25, 36, 49, 64, 81]\n"
     ]
    }
   ],
   "source": [
    "squares = [x ** 2 for x in range(10)]\n",
    "print(squares)"
   ]
  },
  {
   "cell_type": "markdown",
   "id": "bef7b8e4",
   "metadata": {},
   "source": [
    "Dict comprehensions provide a concise way to create dictionaries. They are similar to list comprehensions but use curly braces {} and produce dictionaries instead of lists."
   ]
  },
  {
   "cell_type": "code",
   "execution_count": 22,
   "id": "fa609e39",
   "metadata": {},
   "outputs": [
    {
     "name": "stdout",
     "output_type": "stream",
     "text": [
      "{0: 0, 1: 1, 2: 4, 3: 9, 4: 16, 5: 25, 6: 36, 7: 49, 8: 64, 9: 81}\n"
     ]
    }
   ],
   "source": [
    "squares_dict = {x: x ** 2 for x in range(10)}\n",
    "print(squares_dict)  "
   ]
  },
  {
   "cell_type": "markdown",
   "id": "2cd6c3df",
   "metadata": {},
   "source": [
    "# 15. What are Decoratores in Python? Explain it with an Example. Write down it's use cases. "
   ]
  },
  {
   "cell_type": "markdown",
   "id": "15e971fd",
   "metadata": {},
   "source": [
    "Decorators are a powerful and flexible feature that allows you to modify the behavior of functions or methods without changing their actual code. Decorators are implemented using the @decorator_function syntax and are commonly used in frameworks and libraries to add functionality to functions or methods dynamically."
   ]
  },
  {
   "cell_type": "code",
   "execution_count": 23,
   "id": "86305dfb",
   "metadata": {},
   "outputs": [
    {
     "name": "stdout",
     "output_type": "stream",
     "text": [
      "Prefix: [\n",
      "] Suffix\n",
      "Hello, Priyanshu!\n"
     ]
    }
   ],
   "source": [
    "# Decorator function\n",
    "def add_prefix_suffix(func):\n",
    "    def wrapper(*args, **kwargs):\n",
    "        print(\"Prefix: [\")\n",
    "        result = func(*args, **kwargs)\n",
    "        print(\"] Suffix\")\n",
    "        return result\n",
    "    return wrapper\n",
    "\n",
    "# Function decorated with add_prefix_suffix\n",
    "@add_prefix_suffix\n",
    "def greet(name):\n",
    "    return f\"Hello, {name}!\"\n",
    "\n",
    "# Calling the decorated function\n",
    "print(greet(\"Priyanshu\"))"
   ]
  },
  {
   "cell_type": "markdown",
   "id": "7c6677f2",
   "metadata": {},
   "source": [
    "Use Cases of Decorators\n",
    "\n",
    "Decorators are widely used for various purposes in Python:\n",
    "\n",
    "1. Logging and Monitoring: Decorators can log function calls, measure execution time, or log errors.\n",
    "2. Authorization and Authentication: Decorators can enforce authentication checks before allowing access to certain functions.\n",
    "3. Caching: Decorators can cache function results to improve performance by storing previously computed results.\n",
    "4. Validation: Decorators can validate input parameters before executing a function.\n",
    "5. Retry Mechanisms: Decorators can automatically retry a function call if it fails, with configurable retry counts and delays."
   ]
  },
  {
   "cell_type": "markdown",
   "id": "ec51e54c",
   "metadata": {},
   "source": [
    "# 16. How is Memory Managed in Python?"
   ]
  },
  {
   "cell_type": "markdown",
   "id": "e67816e7",
   "metadata": {},
   "source": [
    "Memory management in Python is primarily handled by its private heap space, where all Python objects and data structures are stored. Python's memory management is automatic and transparent to the programmer, thanks to its built-in memory manager, which handles allocation and deallocation of memory for Python objects. Here are some key aspects of memory management in Python.\n",
    "Python's memory management is designed to be automatic and efficient, handling memory allocation and deallocation transparently to the programmer. Understanding these mechanisms helps developers write efficient and scalable Python code, ensuring optimal memory usage and performance."
   ]
  },
  {
   "cell_type": "markdown",
   "id": "b9a2facb",
   "metadata": {},
   "source": [
    "# 17. What is Lambda in Python? Why it is used?"
   ]
  },
  {
   "cell_type": "markdown",
   "id": "3cb0441b",
   "metadata": {},
   "source": [
    "A lambda function is a small anonymous function defined using the lambda keyword. Lambda functions can have any number of arguments but only one expression. They are syntactically restricted to a single expression and are primarily used for short, simple operations where defining a regular function using def would be overly verbose.\n",
    "\n",
    "Lambda functions are limited to single expressions and lack the robustness of named functions defined with def. They are best used for short, straightforward tasks and may not be suitable for more complex logic or functions that require documentation and extensive testing."
   ]
  },
  {
   "cell_type": "code",
   "execution_count": 25,
   "id": "92286ad3",
   "metadata": {},
   "outputs": [
    {
     "name": "stdout",
     "output_type": "stream",
     "text": [
      "25\n"
     ]
    }
   ],
   "source": [
    "square = lambda x: x ** 2\n",
    "\n",
    "print(square(5))"
   ]
  },
  {
   "cell_type": "markdown",
   "id": "cb059759",
   "metadata": {},
   "source": [
    "Lambda functions in Python are used for concise, one-off operations where defining a full function using def is unnecessary or overly verbose. They are ideal for functional programming tasks like mapping, filtering, and sorting, enhancing code readability and reducing boilerplate."
   ]
  },
  {
   "cell_type": "markdown",
   "id": "d1bab958",
   "metadata": {},
   "source": [
    "# 18. Explain Split() and Join() Function in Python?"
   ]
  },
  {
   "cell_type": "markdown",
   "id": "6083ed17",
   "metadata": {},
   "source": [
    "The split() method in Python is used to break a string into a list of substrings based on a specified delimiter. By default, the delimiter is whitespace.\n",
    "\n",
    "separator (optional): Specifies the delimiter to use for splitting the string. If not provided, whitespace (spaces, tabs, newlines) is used as the default delimiter.\n",
    "\n",
    "maxsplit (optional): Specifies the maximum number of splits to be done. If not provided, all occurrences of the delimiter are used to split the string."
   ]
  },
  {
   "cell_type": "code",
   "execution_count": null,
   "id": "5f05360b",
   "metadata": {},
   "outputs": [],
   "source": [
    "string.split(separator, maxsplit)"
   ]
  },
  {
   "cell_type": "code",
   "execution_count": 27,
   "id": "2fa0e5c9",
   "metadata": {},
   "outputs": [
    {
     "name": "stdout",
     "output_type": "stream",
     "text": [
      "['Hello,', 'world!', 'This', 'is', 'a', 'sentence.']\n",
      "['John', 'Doe', '35', 'New York']\n"
     ]
    }
   ],
   "source": [
    "sentence = \"Hello, world! This is a sentence.\"\n",
    "words = sentence.split()\n",
    "print(words)\n",
    "\n",
    "csv_data = \"John,Doe,35,New York\"\n",
    "fields = csv_data.split(',')\n",
    "print(fields)"
   ]
  },
  {
   "cell_type": "markdown",
   "id": "2e22083d",
   "metadata": {},
   "source": [
    "The join() method in Python is used to concatenate elements of an iterable (e.g., list, tuple) into a single string, using a specified separator between each element.\n",
    "\n",
    "separator: Specifies the separator string to be used between the elements of the iterable when they are joined into a single string.\n",
    "\n",
    "iterable: An iterable (such as a list or tuple) whose elements are joined into a string."
   ]
  },
  {
   "cell_type": "code",
   "execution_count": null,
   "id": "cfb1bee5",
   "metadata": {},
   "outputs": [],
   "source": [
    "separator.join(iterable)"
   ]
  },
  {
   "cell_type": "code",
   "execution_count": 28,
   "id": "d9ba67fb",
   "metadata": {},
   "outputs": [
    {
     "name": "stdout",
     "output_type": "stream",
     "text": [
      "Hello world Python\n",
      "John,Doe,35,New York\n"
     ]
    }
   ],
   "source": [
    "words = ['Hello', 'world', 'Python']\n",
    "sentence = ' '.join(words)\n",
    "print(sentence)\n",
    "\n",
    "csv_data = ['John', 'Doe', '35', 'New York']\n",
    "csv_string = ','.join(csv_data)\n",
    "print(csv_string)"
   ]
  },
  {
   "cell_type": "markdown",
   "id": "13ce61f4",
   "metadata": {},
   "source": [
    "# 19. What are iterators, iterable and generators in python?"
   ]
  },
  {
   "cell_type": "markdown",
   "id": "77030ddd",
   "metadata": {},
   "source": [
    "An iterable in Python is any object capable of returning its members one at a time, allowing it to be iterated over in a for loop. Examples of iterables include lists, tuples, strings, dictionaries, sets, and more.\n",
    "\n",
    "An iterator in Python is an object that implements the iterator protocol, which consists of the methods __iter__() and __next__(). Iterators are used to iterate over elements in an iterable, fetching one item at a time and keeping track of the current state during iteration.\n",
    "\n",
    "A generator in Python is a special type of iterator that is defined using a function with one or more yield statements instead of a return statement. Generators are a concise and efficient way to create iterators."
   ]
  },
  {
   "cell_type": "markdown",
   "id": "f0c9043f",
   "metadata": {},
   "source": [
    "# 20. What is the difference between Xrange and range in python?"
   ]
  },
  {
   "cell_type": "markdown",
   "id": "6cfb151d",
   "metadata": {},
   "source": [
    "In Python 2, xrange() and range() are two functions used to generate sequences of numbers. In Python 3, xrange() was removed and range() behaves as xrange() did in Python 2, so the differences mainly apply to Python 2.\n",
    "\n",
    "range() in Python 2\n",
    "\n",
    "1. Functionality: Returns a list of integers.\n",
    "2. Usage: range(start, stop, step)\n",
    "3. Memory Usage: Creates a list in memory containing all integers from start to stop-1.\n",
    "\n",
    "xrange() in Python 2\n",
    "\n",
    "1. Functionality: Returns an xrange object that evaluates lazily.\n",
    "2. Usage: xrange(start, stop, step)\n",
    "3. Memory Usage: Generates integers one by one as needed, without storing them all in memory."
   ]
  },
  {
   "cell_type": "markdown",
   "id": "83b0c803",
   "metadata": {},
   "source": [
    "# 21. Pillars of Opps."
   ]
  },
  {
   "cell_type": "markdown",
   "id": "be0c9a3c",
   "metadata": {},
   "source": [
    "In the context of Object-Oriented Programming (OOP), the \"pillars\" refer to the four fundamental principles that define and guide the design and implementation of classes and objects. These principles are:\n",
    "\n",
    "1. Encapsulation\n",
    "Encapsulation is the bundling of data (attributes) and methods (functions) that operate on the data into a single unit called a class. It is about hiding the internal state and requiring all interaction to be performed through well-defined interfaces (methods).\n",
    "\n",
    "Purpose: Encapsulation helps in achieving data hiding, abstraction, and modularity. It protects the integrity of data by preventing accidental modification.\n",
    "\n",
    "2. Abstraction\n",
    "Abstraction focuses on hiding the complex implementation details of a class and exposing only the necessary parts to the user. It allows the user to interact with objects using high-level operations without worrying about internal details.\n",
    "\n",
    "Purpose: Abstraction simplifies complex systems by modeling classes based on real-world entities and focusing on what an object does rather than how it does it.\n",
    "\n",
    "3. Inheritance\n",
    "Inheritance is the mechanism where a class (subclass or derived class) can inherit attributes and methods from another class (superclass or base class). It supports the concept of reusability and allows the creation of a hierarchy of classes.\n",
    "\n",
    "Purpose: Inheritance promotes code reusability and enables the creation of specialized classes (subclasses) that inherit behaviors and attributes from more general classes (superclasses).\n",
    "\n",
    "4. Polymorphism\n",
    "Polymorphism means the ability of objects to take on multiple forms or behave differently based on the context. It allows objects of different classes to be treated as objects of a common superclass, providing flexibility and enabling dynamic method dispatch.\n",
    "\n",
    "Purpose: Polymorphism enhances flexibility and extensibility by allowing the same interface (method signature) to be used for different types of objects. It supports method overriding and method overloading."
   ]
  },
  {
   "cell_type": "markdown",
   "id": "8aefa05a",
   "metadata": {},
   "source": [
    "# 22. How will you check if a class is a child of another class?"
   ]
  },
  {
   "cell_type": "markdown",
   "id": "5c5bb0bd",
   "metadata": {},
   "source": [
    "We can check if a class is a subclass (child class) of another class using the issubclass() function or by using the __subclasscheck__() special method."
   ]
  },
  {
   "cell_type": "code",
   "execution_count": 29,
   "id": "0a94f24b",
   "metadata": {},
   "outputs": [
    {
     "name": "stdout",
     "output_type": "stream",
     "text": [
      "True\n",
      "False\n"
     ]
    }
   ],
   "source": [
    "class Animal:\n",
    "    pass\n",
    "\n",
    "class Dog(Animal):\n",
    "    pass\n",
    "\n",
    "print(issubclass(Dog, Animal)) \n",
    "\n",
    "print(issubclass(Animal, Dog)) "
   ]
  },
  {
   "cell_type": "code",
   "execution_count": null,
   "id": "1885e7b0",
   "metadata": {},
   "outputs": [],
   "source": []
  }
 ],
 "metadata": {
  "kernelspec": {
   "display_name": "Python 3 (ipykernel)",
   "language": "python",
   "name": "python3"
  },
  "language_info": {
   "codemirror_mode": {
    "name": "ipython",
    "version": 3
   },
   "file_extension": ".py",
   "mimetype": "text/x-python",
   "name": "python",
   "nbconvert_exporter": "python",
   "pygments_lexer": "ipython3",
   "version": "3.9.12"
  }
 },
 "nbformat": 4,
 "nbformat_minor": 5
}
